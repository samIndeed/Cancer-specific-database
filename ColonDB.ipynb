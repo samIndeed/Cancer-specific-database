{
 "cells": [
  {
   "cell_type": "code",
   "execution_count": 1,
   "id": "4567899b",
   "metadata": {},
   "outputs": [],
   "source": [
    "from pybedtools import BedTool\n"
   ]
  },
  {
   "cell_type": "code",
   "execution_count": 2,
   "id": "8fa52ae5",
   "metadata": {},
   "outputs": [],
   "source": [
    "from Bio import SeqIO\n"
   ]
  },
  {
   "cell_type": "code",
   "execution_count": 133,
   "id": "d6b176c7",
   "metadata": {},
   "outputs": [],
   "source": [
    "!awk '($4 > 0.2)' GTEX_COLON_prev_LowRes.bedGraph > GTEX_COLON_prev_LowRes_AboveT.bedGraph \n"
   ]
  },
  {
   "cell_type": "code",
   "execution_count": 134,
   "id": "93bdcf64",
   "metadata": {},
   "outputs": [],
   "source": [
    "COAD = BedTool('TCGA_COAD_prev_LowRes.bedGraph')  # [1]\n",
    "COLON = BedTool('GTEX_COLON_prev_LowRes_AboveT.bedGraph')  # [1]\n",
    "Thymus = BedTool('Thymus_Prev.bedGraph')  # [1]\n"
   ]
  },
  {
   "cell_type": "code",
   "execution_count": 135,
   "id": "4afc4d0e",
   "metadata": {},
   "outputs": [],
   "source": [
    "COADmS=COAD.subtract(Thymus).subtract(COLON,output='COADminusSelf.bedGraph')     "
   ]
  },
  {
   "cell_type": "code",
   "execution_count": 107,
   "id": "d524dce0",
   "metadata": {},
   "outputs": [],
   "source": [
    "# Use awk to get above T"
   ]
  },
  {
   "cell_type": "code",
   "execution_count": 136,
   "id": "456c46bb",
   "metadata": {},
   "outputs": [],
   "source": [
    "!awk '($4 > 0.2)' COADminusSelf.bedGraph > COADminusSelf_AboveT.bedGraph \n"
   ]
  },
  {
   "cell_type": "code",
   "execution_count": 3,
   "id": "76d3f593",
   "metadata": {},
   "outputs": [],
   "source": [
    "COADmSap5 = BedTool('COADminusSelf_AboveT.bedGraph')  # [1]\n"
   ]
  },
  {
   "cell_type": "code",
   "execution_count": 138,
   "id": "18d83d6c",
   "metadata": {},
   "outputs": [],
   "source": [
    "COADmSap5m=COADmSap5.merge(d=500,o=\"max\",c=4)"
   ]
  },
  {
   "cell_type": "code",
   "execution_count": 139,
   "id": "8476b27a",
   "metadata": {},
   "outputs": [],
   "source": [
    "COADmSap5ms=COADmSap5m.slop(b=75,g=\"hg38.chrom.sizes\")"
   ]
  },
  {
   "cell_type": "code",
   "execution_count": 140,
   "id": "30c0ef08",
   "metadata": {},
   "outputs": [],
   "source": [
    "db=COADmSap5ms.sequence(fi=\"hg38.fa\")"
   ]
  },
  {
   "cell_type": "code",
   "execution_count": 141,
   "id": "179c2d74",
   "metadata": {},
   "outputs": [],
   "source": [
    "b = db.save_seqs('example.fa')\n"
   ]
  },
  {
   "cell_type": "code",
   "execution_count": 142,
   "id": "cc63099e",
   "metadata": {},
   "outputs": [],
   "source": [
    "!awk 'BEGIN{FS=\" \"}{if(!/>/){print toupper($0)}else{print $1}}' example.fa > example2.fa"
   ]
  },
  {
   "cell_type": "code",
   "execution_count": 143,
   "id": "da5f385e",
   "metadata": {},
   "outputs": [
    {
     "name": "stdout",
     "output_type": "stream",
     "text": [
      "\u001b[96morfipy version 0.0.4\u001b[0m\n",
      "\u001b[96mUsing translation table: Standard (transl_table=1) start: ['TTG', 'CTG', 'ATG'] stop: ['TAA', 'TAG', 'TGA']\u001b[0m\n",
      "\u001b[96mSetting chunk size 682 MB. Procs 6\u001b[0m\n",
      "\u001b[93mLogs will be saved to: orfipy_example2.fa_out/orfipy_2024_07_22_20_21_29.352091.log\u001b[0m\n",
      "Processing 13587800 bytes\n",
      "\u001b[92mProcessed 12965 sequences in 1.24 seconds\u001b[0m\n"
     ]
    }
   ],
   "source": [
    "!orfipy example2.fa --dna orfs.fa --min 24 --partial-5 --partial-3               "
   ]
  },
  {
   "cell_type": "code",
   "execution_count": 144,
   "id": "88670d50",
   "metadata": {},
   "outputs": [],
   "source": [
    "!seqkit translate orfipy_example2.fa_out/orfs.fa > out_AAORF.fasta                  "
   ]
  },
  {
   "cell_type": "code",
   "execution_count": null,
   "id": "c430b93c",
   "metadata": {},
   "outputs": [],
   "source": []
  },
  {
   "cell_type": "code",
   "execution_count": 81,
   "id": "91597414",
   "metadata": {},
   "outputs": [],
   "source": [
    "# Check overlap with other database"
   ]
  },
  {
   "cell_type": "code",
   "execution_count": 4,
   "id": "ea913a29",
   "metadata": {},
   "outputs": [],
   "source": [
    "genes = BedTool('hg38.knownGene.gtf.gz')    # [1]\n"
   ]
  },
  {
   "cell_type": "code",
   "execution_count": 5,
   "id": "0d665a31",
   "metadata": {},
   "outputs": [],
   "source": [
    "genesexons = BedTool('exons.gtf')    # [1]\n"
   ]
  },
  {
   "cell_type": "code",
   "execution_count": 26,
   "id": "b644b195",
   "metadata": {},
   "outputs": [],
   "source": [
    "COADGeneNonExon=(COADmSap5-genesexons).intersect(genes,wb=True,u=True,output='COADGeneNonExon.bedGraph')"
   ]
  },
  {
   "cell_type": "code",
   "execution_count": 56,
   "id": "909c671d",
   "metadata": {},
   "outputs": [
    {
     "ename": "BEDToolsError",
     "evalue": "\nCommand was:\n\n\tbedtools closest -b exons.gtf -a COADminusSelf_AboveT.bedGraph\n\nError message was:\nError: Sorted input specified, but the file exons.gtf has the following out of order record\nchr1\tknownGene\texon\t30267\t30667\t.\t+\t.\tgene_id \"ENST00000469289.1\"; transcript_id \"ENST00000469289.1\"; exon_number \"1\"; exon_id \"ENST00000469289.1.1\";\n",
     "output_type": "error",
     "traceback": [
      "\u001b[0;31m---------------------------------------------------------------------------\u001b[0m",
      "\u001b[0;31mBEDToolsError\u001b[0m                             Traceback (most recent call last)",
      "Cell \u001b[0;32mIn[56], line 1\u001b[0m\n\u001b[0;32m----> 1\u001b[0m COADGeneExon\u001b[38;5;241m=\u001b[39m\u001b[43m(\u001b[49m\u001b[43mCOADmSap5\u001b[49m\u001b[43m)\u001b[49m\u001b[38;5;241;43m.\u001b[39;49m\u001b[43mclosest\u001b[49m\u001b[43m(\u001b[49m\u001b[43mgenesexons\u001b[49m\u001b[43m)\u001b[49m\u001b[38;5;241m.\u001b[39mmerge(c\u001b[38;5;241m=\u001b[39m\u001b[38;5;241m12\u001b[39m,output\u001b[38;5;241m=\u001b[39m\u001b[38;5;124m'\u001b[39m\u001b[38;5;124mCOADGeneExon.bedGraph\u001b[39m\u001b[38;5;124m'\u001b[39m,o\u001b[38;5;241m=\u001b[39m\u001b[38;5;124m'\u001b[39m\u001b[38;5;124mcollapse\u001b[39m\u001b[38;5;124m'\u001b[39m)\n",
      "File \u001b[0;32m~/Library/Python/3.9/lib/python/site-packages/pybedtools/bedtool.py:909\u001b[0m, in \u001b[0;36mBedTool._log_to_history.<locals>.decorated\u001b[0;34m(self, *args, **kwargs)\u001b[0m\n\u001b[1;32m    905\u001b[0m \u001b[38;5;28;01mdef\u001b[39;00m \u001b[38;5;21mdecorated\u001b[39m(\u001b[38;5;28mself\u001b[39m, \u001b[38;5;241m*\u001b[39margs, \u001b[38;5;241m*\u001b[39m\u001b[38;5;241m*\u001b[39mkwargs):\n\u001b[1;32m    906\u001b[0m \n\u001b[1;32m    907\u001b[0m     \u001b[38;5;66;03m# this calls the actual method in the first place; *result* is\u001b[39;00m\n\u001b[1;32m    908\u001b[0m     \u001b[38;5;66;03m# whatever you get back\u001b[39;00m\n\u001b[0;32m--> 909\u001b[0m     result \u001b[38;5;241m=\u001b[39m \u001b[43mmethod\u001b[49m\u001b[43m(\u001b[49m\u001b[38;5;28;43mself\u001b[39;49m\u001b[43m,\u001b[49m\u001b[43m \u001b[49m\u001b[38;5;241;43m*\u001b[39;49m\u001b[43margs\u001b[49m\u001b[43m,\u001b[49m\u001b[43m \u001b[49m\u001b[38;5;241;43m*\u001b[39;49m\u001b[38;5;241;43m*\u001b[39;49m\u001b[43mkwargs\u001b[49m\u001b[43m)\u001b[49m\n\u001b[1;32m    911\u001b[0m     \u001b[38;5;66;03m# add appropriate tags\u001b[39;00m\n\u001b[1;32m    912\u001b[0m     parent_tag \u001b[38;5;241m=\u001b[39m \u001b[38;5;28mself\u001b[39m\u001b[38;5;241m.\u001b[39m_tag\n",
      "File \u001b[0;32m~/Library/Python/3.9/lib/python/site-packages/pybedtools/bedtool.py:388\u001b[0m, in \u001b[0;36m_wraps.<locals>.decorator.<locals>.wrapped\u001b[0;34m(self, *args, **kwargs)\u001b[0m\n\u001b[1;32m    385\u001b[0m decode_output \u001b[38;5;241m=\u001b[39m \u001b[38;5;129;01mnot\u001b[39;00m result_is_bam\n\u001b[1;32m    387\u001b[0m \u001b[38;5;66;03m# Do the actual call\u001b[39;00m\n\u001b[0;32m--> 388\u001b[0m stream \u001b[38;5;241m=\u001b[39m \u001b[43mcall_bedtools\u001b[49m\u001b[43m(\u001b[49m\n\u001b[1;32m    389\u001b[0m \u001b[43m    \u001b[49m\u001b[43mcmds\u001b[49m\u001b[43m,\u001b[49m\n\u001b[1;32m    390\u001b[0m \u001b[43m    \u001b[49m\u001b[43mtmp\u001b[49m\u001b[43m,\u001b[49m\n\u001b[1;32m    391\u001b[0m \u001b[43m    \u001b[49m\u001b[43mstdin\u001b[49m\u001b[38;5;241;43m=\u001b[39;49m\u001b[43mstdin\u001b[49m\u001b[43m,\u001b[49m\n\u001b[1;32m    392\u001b[0m \u001b[43m    \u001b[49m\u001b[43mcheck_stderr\u001b[49m\u001b[38;5;241;43m=\u001b[39;49m\u001b[43mcheck_stderr\u001b[49m\u001b[43m,\u001b[49m\n\u001b[1;32m    393\u001b[0m \u001b[43m    \u001b[49m\u001b[43mdecode_output\u001b[49m\u001b[38;5;241;43m=\u001b[39;49m\u001b[43mdecode_output\u001b[49m\u001b[43m,\u001b[49m\n\u001b[1;32m    394\u001b[0m \u001b[43m\u001b[49m\u001b[43m)\u001b[49m\n\u001b[1;32m    396\u001b[0m \u001b[38;5;28;01mif\u001b[39;00m does_not_return_bedtool:\n\u001b[1;32m    397\u001b[0m     \u001b[38;5;28;01mreturn\u001b[39;00m does_not_return_bedtool(stream, \u001b[38;5;241m*\u001b[39m\u001b[38;5;241m*\u001b[39mkwargs)\n",
      "File \u001b[0;32m~/Library/Python/3.9/lib/python/site-packages/pybedtools/helpers.py:460\u001b[0m, in \u001b[0;36mcall_bedtools\u001b[0;34m(cmds, tmpfn, stdin, check_stderr, decode_output, encode_input)\u001b[0m\n\u001b[1;32m    458\u001b[0m             sys\u001b[38;5;241m.\u001b[39mstderr\u001b[38;5;241m.\u001b[39mwrite(stderr)\n\u001b[1;32m    459\u001b[0m         \u001b[38;5;28;01melse\u001b[39;00m:\n\u001b[0;32m--> 460\u001b[0m             \u001b[38;5;28;01mraise\u001b[39;00m BEDToolsError(subprocess\u001b[38;5;241m.\u001b[39mlist2cmdline(cmds), stderr)\n\u001b[1;32m    462\u001b[0m \u001b[38;5;28;01mexcept\u001b[39;00m (\u001b[38;5;167;01mOSError\u001b[39;00m, \u001b[38;5;167;01mIOError\u001b[39;00m) \u001b[38;5;28;01mas\u001b[39;00m err:\n\u001b[1;32m    463\u001b[0m     \u001b[38;5;28mprint\u001b[39m(\u001b[38;5;124m\"\u001b[39m\u001b[38;5;132;01m%s\u001b[39;00m\u001b[38;5;124m: \u001b[39m\u001b[38;5;132;01m%s\u001b[39;00m\u001b[38;5;124m\"\u001b[39m \u001b[38;5;241m%\u001b[39m (\u001b[38;5;28mtype\u001b[39m(err), os\u001b[38;5;241m.\u001b[39mstrerror(err\u001b[38;5;241m.\u001b[39merrno)))\n",
      "\u001b[0;31mBEDToolsError\u001b[0m: \nCommand was:\n\n\tbedtools closest -b exons.gtf -a COADminusSelf_AboveT.bedGraph\n\nError message was:\nError: Sorted input specified, but the file exons.gtf has the following out of order record\nchr1\tknownGene\texon\t30267\t30667\t.\t+\t.\tgene_id \"ENST00000469289.1\"; transcript_id \"ENST00000469289.1\"; exon_number \"1\"; exon_id \"ENST00000469289.1.1\";\n"
     ]
    }
   ],
   "source": [
    "COADGeneExon=(COADmSap5).closest(genesexons).merge(c=12,output='COADGeneExon.bedGraph',o='collapse')"
   ]
  },
  {
   "cell_type": "code",
   "execution_count": 38,
   "id": "8bf1a68d",
   "metadata": {},
   "outputs": [
    {
     "data": {
      "text/plain": [
       "121010"
      ]
     },
     "execution_count": 38,
     "metadata": {},
     "output_type": "execute_result"
    }
   ],
   "source": [
    "len(COADGeneExon)+len(COADGeneNonExon)+len(COADmSap5-genes)"
   ]
  },
  {
   "cell_type": "code",
   "execution_count": 22,
   "id": "4092925e",
   "metadata": {},
   "outputs": [
    {
     "data": {
      "text/plain": [
       "59839"
      ]
     },
     "execution_count": 22,
     "metadata": {},
     "output_type": "execute_result"
    }
   ],
   "source": [
    "len(COADmSap5)"
   ]
  },
  {
   "cell_type": "code",
   "execution_count": 41,
   "id": "746c8789",
   "metadata": {},
   "outputs": [
    {
     "name": "stdout",
     "output_type": "stream",
     "text": [
      "chr1\t89850\t89900\t0.21845\tchr1\tknownGene\texon\t89551\t90050\t.\t-\t.\tgene_id \"ENST00000495576.1\"; transcript_id \"ENST00000495576.1\"; exon_number \"2\"; exon_id \"ENST00000495576.1.2\";\n",
      "\n"
     ]
    }
   ],
   "source": [
    "print(COADGeneExon[1])"
   ]
  },
  {
   "cell_type": "code",
   "execution_count": null,
   "id": "0cf2458a",
   "metadata": {},
   "outputs": [],
   "source": []
  },
  {
   "cell_type": "code",
   "execution_count": 148,
   "id": "1e0b9d92",
   "metadata": {},
   "outputs": [],
   "source": [
    "\n",
    "import argparse\n",
    "import sys\n",
    "import os\n",
    "import pybedtools\n",
    "\n",
    "def venn_mpl(a, b, c, colors=None, outfn=\"out.png\", labels=None, by_length=False, dpi=300):\n",
    "    \"\"\"\n",
    "    *a*, *b*, and *c* are filenames to BED-like files.\n",
    "\n",
    "    *colors* is a list of matplotlib colors for the Venn diagram circles.\n",
    "\n",
    "    *outfn* is the resulting output file.  This is passed directly to\n",
    "    fig.savefig(), so you can supply extensions of .png, .pdf, or whatever your\n",
    "    matplotlib installation supports.\n",
    "\n",
    "    *labels* is a list of labels to use for each of the files; by default the\n",
    "    labels are ['a','b','c']\n",
    "\n",
    "    *by_length* if True, then instead of plotting number of intervals, plot combined\n",
    "    lengths of intervals\n",
    "\n",
    "    *dpi* is the dpi setting passed to matplotlib savefig\n",
    "    \"\"\"\n",
    "    try:\n",
    "        import matplotlib.pyplot as plt\n",
    "        from matplotlib.patches import Circle\n",
    "    except ImportError:\n",
    "        sys.stderr.write(\n",
    "            \"matplotlib is required to make a Venn diagram with %s\\n\"\n",
    "            % os.path.basename(sys.argv[0])\n",
    "        )\n",
    "        sys.exit(1)\n",
    "\n",
    "    a = pybedtools.BedTool(a)\n",
    "    b = pybedtools.BedTool(b)\n",
    "    c = pybedtools.BedTool(c)\n",
    "    count_features = lambda x:x.count()\n",
    "    if by_length:\n",
    "        count_features = lambda x:x.total_coverage()\n",
    "\n",
    "    if colors is None:\n",
    "        colors = [\"r\", \"b\", \"g\"]\n",
    "\n",
    "    radius = 6.0\n",
    "    center = 0.0\n",
    "    offset = radius / 2\n",
    "\n",
    "    if labels is None:\n",
    "        labels = [\"a\", \"b\", \"c\"]\n",
    "\n",
    "    circle_a = Circle(\n",
    "        xy=(center - offset, center + offset),\n",
    "        radius=radius,\n",
    "        edgecolor=colors[0],\n",
    "        label=labels[0],\n",
    "    )\n",
    "    circle_b = Circle(\n",
    "        xy=(center + offset, center + offset),\n",
    "        radius=radius,\n",
    "        edgecolor=colors[1],\n",
    "        label=labels[1],\n",
    "    )\n",
    "    circle_c = Circle(\n",
    "        xy=(center, center - offset),\n",
    "        radius=radius,\n",
    "        edgecolor=colors[2],\n",
    "        label=labels[2],\n",
    "    )\n",
    "\n",
    "    fig = plt.figure(facecolor=\"w\")\n",
    "    ax = fig.add_subplot(111)\n",
    "\n",
    "    for circle in (circle_a, circle_b, circle_c):\n",
    "        circle.set_facecolor(\"none\")\n",
    "        circle.set_linewidth(3)\n",
    "        ax.add_patch(circle)\n",
    "\n",
    "    ax.axis(\"tight\")\n",
    "    ax.axis(\"equal\")\n",
    "    ax.set_axis_off()\n",
    "\n",
    "    kwargs = dict(horizontalalignment=\"center\")\n",
    "\n",
    "    # Unique to A\n",
    "    ax.text(center - 2 * offset, center + offset, str(count_features(a - b - c)), **kwargs)\n",
    "\n",
    "    # Unique to B\n",
    "    ax.text(center + 2 * offset, center + offset, str(count_features(b - a - c)), **kwargs)\n",
    "\n",
    "    # Unique to C\n",
    "    ax.text(center, center - 2 * offset, str(count_features(c - a - b)), **kwargs)\n",
    "\n",
    "    # A and B not C\n",
    "    ax.text(\n",
    "        center, center + 2 * offset - 0.5 * offset, str(count_features(a + b - c)), **kwargs\n",
    "    )\n",
    "\n",
    "    # A and C not B\n",
    "    ax.text(\n",
    "        center - 1.2 * offset, center - 0.5 * offset, str(count_features(a + c - b)), **kwargs\n",
    "    )\n",
    "\n",
    "    # B and C not A\n",
    "    ax.text(\n",
    "        center + 1.2 * offset, center - 0.5 * offset, str(count_features(b + c - a)), **kwargs\n",
    "    )\n",
    "\n",
    "    # all\n",
    "    ax.text(center, center, str(count_features(a + b + c)), **kwargs)\n",
    "\n",
    "    ax.legend(loc=\"best\")\n",
    "\n",
    "    fig.savefig(outfn, dpi=dpi)\n",
    "\n",
    "    plt.close(fig)\n",
    "\n",
    "\n",
    "def main():\n",
    "    \"\"\"Create a 3-way Venn diagram, using matplotlib\"\"\"\n",
    "    op = argparse.ArgumentParser(description=__doc__, prog=sys.argv[0])\n",
    "    op.add_argument(\"-a\", help=\"File to use for the left-most circle\")\n",
    "    op.add_argument(\"-b\", help=\"File to use for the right-most circle\")\n",
    "    op.add_argument(\"-c\", help=\"File to use for the bottom circle\")\n",
    "    op.add_argument(\n",
    "        \"--labels\",\n",
    "        help=\"Optional comma-separated list of \" \"labels for a, b, and c\",\n",
    "        default=\"a,b,c\",\n",
    "    )\n",
    "    op.add_argument(\n",
    "        \"--colors\",\n",
    "        default=\"r,b,g\",\n",
    "        help=\"Comma-separated list of matplotlib-valid colors \"\n",
    "        \"for circles a, b, and c.  E.g., --colors=r,b,k\",\n",
    "    )\n",
    "    op.add_argument(\n",
    "        \"-o\",\n",
    "        default=\"out.png\",\n",
    "        help=\"Output file to save as.  Extension is \"\n",
    "        'meaningful, e.g., out.pdf, out.png, out.svg.  Default is \"%(default)s\"',\n",
    "    )\n",
    "    op.add_argument(\n",
    "        \"--test\", action=\"store_true\", help=\"run test, overriding all other options.\"\n",
    "    )\n",
    "    options = op.parse_args()\n",
    "\n",
    "    reqd_args = [\"a\", \"b\", \"c\"]\n",
    "    if not options.test:\n",
    "        for ra in reqd_args:\n",
    "            if not getattr(options, ra):\n",
    "                op.print_help()\n",
    "                sys.stderr.write('Missing required arg \"%s\"\\n' % ra)\n",
    "                sys.exit(1)\n",
    "\n",
    "    if options.test:\n",
    "        pybedtools.bedtool.random.seed(1)\n",
    "        a = pybedtools.example_bedtool(\"rmsk.hg18.chr21.small.bed\")\n",
    "        b = pybedtools.example_bedtool(\"venn.b.bed\")\n",
    "        c = pybedtools.example_bedtool(\"venn.c.bed\")\n",
    "        options.a = a.fn\n",
    "        options.b = b.fn\n",
    "        options.c = c.fn\n",
    "        options.colors = \"r,b,g\"\n",
    "        options.o = \"out.png\"\n",
    "        options.labels = \"a,b,c\"\n",
    "\n",
    "    venn_mpl(\n",
    "        a=options.a,\n",
    "        b=options.b,\n",
    "        c=options.c,\n",
    "        colors=options.colors.split(\",\"),\n",
    "        labels=options.labels.split(\",\"),\n",
    "        outfn=options.o,\n",
    "    )\n",
    "\n"
   ]
  },
  {
   "cell_type": "code",
   "execution_count": 149,
   "id": "089998eb",
   "metadata": {},
   "outputs": [],
   "source": [
    "venn_mpl(db,genes,genesexons)"
   ]
  },
  {
   "cell_type": "code",
   "execution_count": 153,
   "id": "2ad459ff",
   "metadata": {},
   "outputs": [],
   "source": [
    "from IPython.display import Image"
   ]
  },
  {
   "cell_type": "code",
   "execution_count": 157,
   "id": "a360f7a4",
   "metadata": {},
   "outputs": [
    {
     "data": {
      "image/png": "[encoded data removed]",
      "text/plain": [
       "<IPython.core.display.Image object>"
      ]
     },
     "execution_count": 157,
     "metadata": {},
     "output_type": "execute_result"
    }
   ],
   "source": [
    "Image('out.png')"
   ]
  },
  {
   "cell_type": "code",
   "execution_count": 87,
   "id": "f5e291f7",
   "metadata": {},
   "outputs": [],
   "source": [
    "db1 = BedTool('/Users/sampalmer/Projects/RED/Bigwigs/PrevalenceBigWigs/COADminusSelfap5Merge.bedGraph')    # [1]\n"
   ]
  },
  {
   "cell_type": "code",
   "execution_count": 88,
   "id": "b9a36e90",
   "metadata": {},
   "outputs": [
    {
     "data": {
      "text/plain": [
       "7823"
      ]
     },
     "execution_count": 88,
     "metadata": {},
     "output_type": "execute_result"
    }
   ],
   "source": [
    "len(db1)"
   ]
  },
  {
   "cell_type": "code",
   "execution_count": 119,
   "id": "2a93a298",
   "metadata": {},
   "outputs": [
    {
     "data": {
      "text/plain": [
       "320"
      ]
     },
     "execution_count": 119,
     "metadata": {},
     "output_type": "execute_result"
    }
   ],
   "source": [
    "len(COADmSap5ms.intersect(db1))"
   ]
  },
  {
   "cell_type": "code",
   "execution_count": 118,
   "id": "bad9e6c8",
   "metadata": {},
   "outputs": [
    {
     "data": {
      "text/plain": [
       "22345"
      ]
     },
     "execution_count": 118,
     "metadata": {},
     "output_type": "execute_result"
    }
   ],
   "source": [
    "len(db)"
   ]
  },
  {
   "cell_type": "code",
   "execution_count": null,
   "id": "3ad6cd92",
   "metadata": {},
   "outputs": [],
   "source": []
  },
  {
   "cell_type": "code",
   "execution_count": 75,
   "id": "5f4c9657",
   "metadata": {},
   "outputs": [
    {
     "name": "stdout",
     "output_type": "stream",
     "text": [
      "chr1\tknownGene\ttranscript\t11869\t14409\t.\t+\t.\tgene_id \"ENST00000456328.2\"; transcript_id \"ENST00000456328.2\"; \n",
      "\n",
      "chr1\tknownGene\texon\t11869\t12227\t.\t+\t.\tgene_id \"ENST00000456328.2\"; transcript_id \"ENST00000456328.2\"; exon_number \"1\"; exon_id \"ENST00000456328.2.1\";\n",
      "\n"
     ]
    }
   ],
   "source": [
    "for i in range(2):\n",
    "    print(genes[i])"
   ]
  },
  {
   "cell_type": "code",
   "execution_count": 122,
   "id": "511ca0f6",
   "metadata": {},
   "outputs": [
    {
     "data": {
      "text/plain": [
       "22345"
      ]
     },
     "execution_count": 122,
     "metadata": {},
     "output_type": "execute_result"
    }
   ],
   "source": [
    "len(db)"
   ]
  },
  {
   "cell_type": "code",
   "execution_count": 129,
   "id": "693bf617",
   "metadata": {},
   "outputs": [
    {
     "data": {
      "text/plain": [
       "22345"
      ]
     },
     "execution_count": 129,
     "metadata": {},
     "output_type": "execute_result"
    }
   ],
   "source": [
    "db.count()"
   ]
  },
  {
   "cell_type": "code",
   "execution_count": 128,
   "id": "8c6b3414",
   "metadata": {},
   "outputs": [
    {
     "data": {
      "text/plain": [
       "7933"
      ]
     },
     "execution_count": 128,
     "metadata": {},
     "output_type": "execute_result"
    }
   ],
   "source": [
    "(db-genes).count()  # unique to a\n"
   ]
  },
  {
   "cell_type": "code",
   "execution_count": null,
   "id": "2e4d5a68",
   "metadata": {},
   "outputs": [],
   "source": []
  },
  {
   "cell_type": "code",
   "execution_count": null,
   "id": "406c6fed",
   "metadata": {},
   "outputs": [],
   "source": []
  },
  {
   "cell_type": "code",
   "execution_count": null,
   "id": "d049f5ce",
   "metadata": {},
   "outputs": [],
   "source": []
  },
  {
   "cell_type": "code",
   "execution_count": 131,
   "id": "66e8c9aa",
   "metadata": {},
   "outputs": [
    {
     "data": {
      "text/plain": [
       "14412"
      ]
     },
     "execution_count": 131,
     "metadata": {},
     "output_type": "execute_result"
    }
   ],
   "source": [
    "len(db.intersect(genes,u=True))"
   ]
  },
  {
   "cell_type": "code",
   "execution_count": 132,
   "id": "032d82e9",
   "metadata": {},
   "outputs": [
    {
     "data": {
      "text/plain": [
       "22345"
      ]
     },
     "execution_count": 132,
     "metadata": {},
     "output_type": "execute_result"
    }
   ],
   "source": [
    "7933+14412"
   ]
  },
  {
   "cell_type": "code",
   "execution_count": null,
   "id": "74ec3185",
   "metadata": {},
   "outputs": [],
   "source": []
  },
  {
   "cell_type": "code",
   "execution_count": null,
   "id": "8b1a878f",
   "metadata": {},
   "outputs": [],
   "source": []
  },
  {
   "cell_type": "code",
   "execution_count": 40,
   "id": "af95b96f",
   "metadata": {},
   "outputs": [],
   "source": [
    "!awk '$3 == \"exon\"' hg38.knownGene.gtf > exons.gtf"
   ]
  },
  {
   "cell_type": "code",
   "execution_count": 71,
   "id": "d11e4564",
   "metadata": {},
   "outputs": [],
   "source": [
    "!awk '$3 == \"transcript\"' hg38.knownGene.gtf > introns.gtf"
   ]
  },
  {
   "cell_type": "code",
   "execution_count": 49,
   "id": "7cae1891",
   "metadata": {},
   "outputs": [],
   "source": [
    "!awk '$3 == \"CDS\"' hg38.knownGene.gtf > CDS.gtf"
   ]
  },
  {
   "cell_type": "code",
   "execution_count": 80,
   "id": "a113eeef",
   "metadata": {},
   "outputs": [],
   "source": [
    "!awk '$9~/CCAT/' hg38.knownGene.gtf > Linc.gtf"
   ]
  },
  {
   "cell_type": "code",
   "execution_count": 65,
   "id": "a222e37c",
   "metadata": {},
   "outputs": [],
   "source": [
    "genesCDS = BedTool('CDS.gtf')    # [1]\n"
   ]
  },
  {
   "cell_type": "code",
   "execution_count": 41,
   "id": "8f171be9",
   "metadata": {},
   "outputs": [],
   "source": [
    "genesexons = BedTool('exons.gtf')    # [1]\n"
   ]
  },
  {
   "cell_type": "code",
   "execution_count": 72,
   "id": "ffd6715e",
   "metadata": {},
   "outputs": [],
   "source": [
    "genesintrons = BedTool('introns.gtf')    # [1]\n"
   ]
  },
  {
   "cell_type": "code",
   "execution_count": 73,
   "id": "0572830f",
   "metadata": {},
   "outputs": [
    {
     "data": {
      "text/plain": [
       "69"
      ]
     },
     "execution_count": 73,
     "metadata": {},
     "output_type": "execute_result"
    }
   ],
   "source": [
    "len(db.intersect(genesintrons))"
   ]
  },
  {
   "cell_type": "code",
   "execution_count": 123,
   "id": "5b7b1611",
   "metadata": {},
   "outputs": [
    {
     "data": {
      "text/plain": [
       "6799"
      ]
     },
     "execution_count": 123,
     "metadata": {},
     "output_type": "execute_result"
    }
   ],
   "source": [
    "len(db.intersect(genesexons))"
   ]
  },
  {
   "cell_type": "code",
   "execution_count": 124,
   "id": "fa4ebcd4",
   "metadata": {},
   "outputs": [
    {
     "data": {
      "text/plain": [
       "1288"
      ]
     },
     "execution_count": 124,
     "metadata": {},
     "output_type": "execute_result"
    }
   ],
   "source": [
    "len(db.intersect(genesCDS))"
   ]
  },
  {
   "cell_type": "code",
   "execution_count": 74,
   "id": "3a5d0852",
   "metadata": {},
   "outputs": [
    {
     "data": {
      "text/plain": [
       "12180067"
      ]
     },
     "execution_count": 74,
     "metadata": {},
     "output_type": "execute_result"
    }
   ],
   "source": [
    "len(genesexons.intersect(genesCDS))"
   ]
  },
  {
   "cell_type": "code",
   "execution_count": 125,
   "id": "aeb76b85",
   "metadata": {},
   "outputs": [
    {
     "data": {
      "text/plain": [
       "1769117"
      ]
     },
     "execution_count": 125,
     "metadata": {},
     "output_type": "execute_result"
    }
   ],
   "source": [
    "len(genesexons)"
   ]
  },
  {
   "cell_type": "code",
   "execution_count": 130,
   "id": "271933f3",
   "metadata": {},
   "outputs": [
    {
     "data": {
      "text/plain": [
       "19738"
      ]
     },
     "execution_count": 130,
     "metadata": {},
     "output_type": "execute_result"
    }
   ],
   "source": [
    "(db-genesexons).count()"
   ]
  },
  {
   "cell_type": "code",
   "execution_count": null,
   "id": "4ec99bdc",
   "metadata": {},
   "outputs": [],
   "source": []
  }
 ],
 "metadata": {
  "kernelspec": {
   "display_name": "Python 3 (ipykernel)",
   "language": "python",
   "name": "python3"
  },
  "language_info": {
   "codemirror_mode": {
    "name": "ipython",
    "version": 3
   },
   "file_extension": ".py",
   "mimetype": "text/x-python",
   "name": "python",
   "nbconvert_exporter": "python",
   "pygments_lexer": "ipython3",
   "version": "3.9.6"
  }
 },
 "nbformat": 4,
 "nbformat_minor": 5
}
